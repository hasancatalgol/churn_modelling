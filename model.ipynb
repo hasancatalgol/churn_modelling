{
  "cells": [
    {
      "cell_type": "markdown",
      "id": "64b7d1f9",
      "metadata": {
        "id": "64b7d1f9"
      },
      "source": [
        "# Table of Contents\n",
        "* [What is Churn Modelling?](#1)\n",
        "* [Understanding the Background and Data](#2)\n",
        "* [Libraries and modules used in the project](#3)\n",
        "* [Data Manipulation](#4)\n",
        "* [Data Exploration](#5)"
      ]
    },
    {
      "cell_type": "markdown",
      "id": "bb1f6d27",
      "metadata": {
        "id": "bb1f6d27"
      },
      "source": [
        "<a id=\"1\"></a>\n",
        "# Churn Modelling \n",
        "![Image of Yaktocat](https://uruit.com/blog/wp-content/uploads/2020/11/Churn1-750x530.jpg)\n",
        "## Customer Retention\n",
        "\n",
        "## Overview\n",
        "\n",
        "Our goal is to make groupings for customers that exist individually. Then it is to segment these groups. Finally, it is trying to determine which of these segments a new customer belongs to. **We won't be appling any machine learning algorithms to solve this problem.** Segmentation will be rule based and we will be defining those rules.\n",
        "\n",
        "\n",
        "### Goal: \n",
        "Thinking about the concept of persona.\n",
        "To be able to define new customers according to the levels.\n",
        "Simply segment new customer definitions using the qcut function.\n",
        "When a new customer arrives, classify them according to segments.\n",
        "\n",
        "\n",
        "\n",
        "\n",
        "---\n",
        "----\n",
        "<a id=\"2\"></a>\n",
        "## Part One: Understanding the Background and Data\n"
      ]
    },
    {
      "cell_type": "markdown",
      "id": "f3dda38e",
      "metadata": {
        "id": "f3dda38e"
      },
      "source": [
        "----\n",
        "\n",
        "### The Data\n",
        "\n",
        "This data set contains details of a bank's customers and the target variable is a binary variable reflecting the fact whether the customer left the bank (closed his account) or he continues to be a customer. \n",
        "\n",
        "https://www.kaggle.com/datasets/shrutimechlearn/churn-modelling\n",
        "\n",
        "#### Churn_Modelling.csv"
      ]
    },
    {
      "cell_type": "markdown",
      "id": "2ea0dd66",
      "metadata": {
        "id": "2ea0dd66"
      },
      "source": [
        "-----\n",
        "\n",
        "`Churn_Modelling.csv` contains characteristics of customers"
      ]
    },
    {
      "cell_type": "markdown",
      "id": "1ec24115",
      "metadata": {
        "id": "1ec24115"
      },
      "source": [
        "Column | Definition | Type of Variable\n",
        ":--- | :-----------: | :-----------------:\n",
        "RowNumber | Rows of each customer | Numeric\n",
        "CustomerId | Unique ID belonging to customers | Numeric\n",
        "Surname | Last names of customers | Nominal\n",
        "CreditScore | Credit card scores of customers | Numeric\n",
        "Geograpgy | Countries where customers reside |Nominal\n",
        "Gender | Assumed genders of customers |Nominal\n",
        "Age |  Ages of customers | Numeric\n",
        "Tenure |  Length of time an customer has worked for the company | Numeric\n",
        "Balance |  Basic balance is the measure of inflows and outflows that takes the capital and current accounts into consideration. | Numeric\n",
        "NumofProducts | Total number of products that the customer bought | Numeric\n",
        "HasCrCard | Does the customer have credit card? (1 for yes, 0 for no) | Numeric\n",
        "IsActiveMember | Related with customer's activity for a previously defined period of time | Numeric\n",
        "EstimatedSalary | Estimated salary of the customer | Numeric\n",
        "Exited | Churn condition of the customer | Numeric"
      ]
    },
    {
      "cell_type": "markdown",
      "id": "5d40bc02",
      "metadata": {
        "id": "5d40bc02"
      },
      "source": [
        "**Import libraries**"
      ]
    },
    {
      "cell_type": "code",
      "execution_count": null,
      "id": "af4af752",
      "metadata": {
        "id": "af4af752"
      },
      "outputs": [],
      "source": [
        "import os\n",
        "import numpy as np\n",
        "import pandas as pd\n",
        "import seaborn as sns\n",
        "from matplotlib import pyplot as plt\n",
        "import sklearn.preprocessing as preprocessing\n",
        "from sklearn.neighbors import LocalOutlierFactor\n",
        "\n",
        "pd.pandas.set_option('display.max_columns', None)\n",
        "pd.set_option('display.float_format', lambda x: '%.3f' % x)\n",
        "pd.set_option('display.width', 170)"
      ]
    },
    {
      "cell_type": "code",
      "execution_count": null,
      "id": "79be8e62",
      "metadata": {
        "id": "79be8e62"
      },
      "outputs": [],
      "source": [
        "df=pd.read_csv(\"\")"
      ]
    },
    {
      "cell_type": "code",
      "execution_count": null,
      "id": "52a644d1",
      "metadata": {
        "id": "52a644d1",
        "outputId": "d1aa9d62-7ddd-4325-a23b-dfce0dccb595"
      },
      "outputs": [
        {
          "data": {
            "text/html": [
              "<div>\n",
              "<style scoped>\n",
              "    .dataframe tbody tr th:only-of-type {\n",
              "        vertical-align: middle;\n",
              "    }\n",
              "\n",
              "    .dataframe tbody tr th {\n",
              "        vertical-align: top;\n",
              "    }\n",
              "\n",
              "    .dataframe thead th {\n",
              "        text-align: right;\n",
              "    }\n",
              "</style>\n",
              "<table border=\"1\" class=\"dataframe\">\n",
              "  <thead>\n",
              "    <tr style=\"text-align: right;\">\n",
              "      <th></th>\n",
              "      <th>RowNumber</th>\n",
              "      <th>CustomerId</th>\n",
              "      <th>Surname</th>\n",
              "      <th>CreditScore</th>\n",
              "      <th>Geography</th>\n",
              "      <th>Gender</th>\n",
              "      <th>Age</th>\n",
              "      <th>Tenure</th>\n",
              "      <th>Balance</th>\n",
              "      <th>NumOfProducts</th>\n",
              "      <th>HasCrCard</th>\n",
              "      <th>IsActiveMember</th>\n",
              "      <th>EstimatedSalary</th>\n",
              "      <th>Exited</th>\n",
              "    </tr>\n",
              "  </thead>\n",
              "  <tbody>\n",
              "    <tr>\n",
              "      <th>0</th>\n",
              "      <td>1</td>\n",
              "      <td>15634602</td>\n",
              "      <td>Hargrave</td>\n",
              "      <td>619</td>\n",
              "      <td>France</td>\n",
              "      <td>Female</td>\n",
              "      <td>42</td>\n",
              "      <td>2</td>\n",
              "      <td>0.000</td>\n",
              "      <td>1</td>\n",
              "      <td>1</td>\n",
              "      <td>1</td>\n",
              "      <td>101348.880</td>\n",
              "      <td>1</td>\n",
              "    </tr>\n",
              "    <tr>\n",
              "      <th>1</th>\n",
              "      <td>2</td>\n",
              "      <td>15647311</td>\n",
              "      <td>Hill</td>\n",
              "      <td>608</td>\n",
              "      <td>Spain</td>\n",
              "      <td>Female</td>\n",
              "      <td>41</td>\n",
              "      <td>1</td>\n",
              "      <td>83807.860</td>\n",
              "      <td>1</td>\n",
              "      <td>0</td>\n",
              "      <td>1</td>\n",
              "      <td>112542.580</td>\n",
              "      <td>0</td>\n",
              "    </tr>\n",
              "    <tr>\n",
              "      <th>2</th>\n",
              "      <td>3</td>\n",
              "      <td>15619304</td>\n",
              "      <td>Onio</td>\n",
              "      <td>502</td>\n",
              "      <td>France</td>\n",
              "      <td>Female</td>\n",
              "      <td>42</td>\n",
              "      <td>8</td>\n",
              "      <td>159660.800</td>\n",
              "      <td>3</td>\n",
              "      <td>1</td>\n",
              "      <td>0</td>\n",
              "      <td>113931.570</td>\n",
              "      <td>1</td>\n",
              "    </tr>\n",
              "    <tr>\n",
              "      <th>3</th>\n",
              "      <td>4</td>\n",
              "      <td>15701354</td>\n",
              "      <td>Boni</td>\n",
              "      <td>699</td>\n",
              "      <td>France</td>\n",
              "      <td>Female</td>\n",
              "      <td>39</td>\n",
              "      <td>1</td>\n",
              "      <td>0.000</td>\n",
              "      <td>2</td>\n",
              "      <td>0</td>\n",
              "      <td>0</td>\n",
              "      <td>93826.630</td>\n",
              "      <td>0</td>\n",
              "    </tr>\n",
              "    <tr>\n",
              "      <th>4</th>\n",
              "      <td>5</td>\n",
              "      <td>15737888</td>\n",
              "      <td>Mitchell</td>\n",
              "      <td>850</td>\n",
              "      <td>Spain</td>\n",
              "      <td>Female</td>\n",
              "      <td>43</td>\n",
              "      <td>2</td>\n",
              "      <td>125510.820</td>\n",
              "      <td>1</td>\n",
              "      <td>1</td>\n",
              "      <td>1</td>\n",
              "      <td>79084.100</td>\n",
              "      <td>0</td>\n",
              "    </tr>\n",
              "  </tbody>\n",
              "</table>\n",
              "</div>"
            ],
            "text/plain": [
              "   RowNumber  CustomerId   Surname  CreditScore Geography  Gender  Age  Tenure    Balance  NumOfProducts  HasCrCard  IsActiveMember  EstimatedSalary  Exited\n",
              "0          1    15634602  Hargrave          619    France  Female   42       2      0.000              1          1               1       101348.880       1\n",
              "1          2    15647311      Hill          608     Spain  Female   41       1  83807.860              1          0               1       112542.580       0\n",
              "2          3    15619304      Onio          502    France  Female   42       8 159660.800              3          1               0       113931.570       1\n",
              "3          4    15701354      Boni          699    France  Female   39       1      0.000              2          0               0        93826.630       0\n",
              "4          5    15737888  Mitchell          850     Spain  Female   43       2 125510.820              1          1               1        79084.100       0"
            ]
          },
          "execution_count": 6,
          "metadata": {},
          "output_type": "execute_result"
        }
      ],
      "source": [
        "df.head()"
      ]
    },
    {
      "cell_type": "code",
      "execution_count": null,
      "id": "8c8bbcbb",
      "metadata": {
        "id": "8c8bbcbb",
        "outputId": "147bd3a0-ab9d-48b7-a539-1e3db042ebab"
      },
      "outputs": [
        {
          "data": {
            "text/html": [
              "<div>\n",
              "<style scoped>\n",
              "    .dataframe tbody tr th:only-of-type {\n",
              "        vertical-align: middle;\n",
              "    }\n",
              "\n",
              "    .dataframe tbody tr th {\n",
              "        vertical-align: top;\n",
              "    }\n",
              "\n",
              "    .dataframe thead th {\n",
              "        text-align: right;\n",
              "    }\n",
              "</style>\n",
              "<table border=\"1\" class=\"dataframe\">\n",
              "  <thead>\n",
              "    <tr style=\"text-align: right;\">\n",
              "      <th></th>\n",
              "      <th>count</th>\n",
              "      <th>mean</th>\n",
              "      <th>std</th>\n",
              "      <th>min</th>\n",
              "      <th>25%</th>\n",
              "      <th>50%</th>\n",
              "      <th>75%</th>\n",
              "      <th>max</th>\n",
              "    </tr>\n",
              "  </thead>\n",
              "  <tbody>\n",
              "    <tr>\n",
              "      <th>RowNumber</th>\n",
              "      <td>10000.000</td>\n",
              "      <td>5000.500</td>\n",
              "      <td>2886.896</td>\n",
              "      <td>1.000</td>\n",
              "      <td>2500.750</td>\n",
              "      <td>5000.500</td>\n",
              "      <td>7500.250</td>\n",
              "      <td>10000.000</td>\n",
              "    </tr>\n",
              "    <tr>\n",
              "      <th>CustomerId</th>\n",
              "      <td>10000.000</td>\n",
              "      <td>15690940.569</td>\n",
              "      <td>71936.186</td>\n",
              "      <td>15565701.000</td>\n",
              "      <td>15628528.250</td>\n",
              "      <td>15690738.000</td>\n",
              "      <td>15753233.750</td>\n",
              "      <td>15815690.000</td>\n",
              "    </tr>\n",
              "    <tr>\n",
              "      <th>CreditScore</th>\n",
              "      <td>10000.000</td>\n",
              "      <td>650.529</td>\n",
              "      <td>96.653</td>\n",
              "      <td>350.000</td>\n",
              "      <td>584.000</td>\n",
              "      <td>652.000</td>\n",
              "      <td>718.000</td>\n",
              "      <td>850.000</td>\n",
              "    </tr>\n",
              "    <tr>\n",
              "      <th>Age</th>\n",
              "      <td>10000.000</td>\n",
              "      <td>38.922</td>\n",
              "      <td>10.488</td>\n",
              "      <td>18.000</td>\n",
              "      <td>32.000</td>\n",
              "      <td>37.000</td>\n",
              "      <td>44.000</td>\n",
              "      <td>92.000</td>\n",
              "    </tr>\n",
              "    <tr>\n",
              "      <th>Tenure</th>\n",
              "      <td>10000.000</td>\n",
              "      <td>5.013</td>\n",
              "      <td>2.892</td>\n",
              "      <td>0.000</td>\n",
              "      <td>3.000</td>\n",
              "      <td>5.000</td>\n",
              "      <td>7.000</td>\n",
              "      <td>10.000</td>\n",
              "    </tr>\n",
              "    <tr>\n",
              "      <th>Balance</th>\n",
              "      <td>10000.000</td>\n",
              "      <td>76485.889</td>\n",
              "      <td>62397.405</td>\n",
              "      <td>0.000</td>\n",
              "      <td>0.000</td>\n",
              "      <td>97198.540</td>\n",
              "      <td>127644.240</td>\n",
              "      <td>250898.090</td>\n",
              "    </tr>\n",
              "    <tr>\n",
              "      <th>NumOfProducts</th>\n",
              "      <td>10000.000</td>\n",
              "      <td>1.530</td>\n",
              "      <td>0.582</td>\n",
              "      <td>1.000</td>\n",
              "      <td>1.000</td>\n",
              "      <td>1.000</td>\n",
              "      <td>2.000</td>\n",
              "      <td>4.000</td>\n",
              "    </tr>\n",
              "    <tr>\n",
              "      <th>HasCrCard</th>\n",
              "      <td>10000.000</td>\n",
              "      <td>0.706</td>\n",
              "      <td>0.456</td>\n",
              "      <td>0.000</td>\n",
              "      <td>0.000</td>\n",
              "      <td>1.000</td>\n",
              "      <td>1.000</td>\n",
              "      <td>1.000</td>\n",
              "    </tr>\n",
              "    <tr>\n",
              "      <th>IsActiveMember</th>\n",
              "      <td>10000.000</td>\n",
              "      <td>0.515</td>\n",
              "      <td>0.500</td>\n",
              "      <td>0.000</td>\n",
              "      <td>0.000</td>\n",
              "      <td>1.000</td>\n",
              "      <td>1.000</td>\n",
              "      <td>1.000</td>\n",
              "    </tr>\n",
              "    <tr>\n",
              "      <th>EstimatedSalary</th>\n",
              "      <td>10000.000</td>\n",
              "      <td>100090.240</td>\n",
              "      <td>57510.493</td>\n",
              "      <td>11.580</td>\n",
              "      <td>51002.110</td>\n",
              "      <td>100193.915</td>\n",
              "      <td>149388.247</td>\n",
              "      <td>199992.480</td>\n",
              "    </tr>\n",
              "    <tr>\n",
              "      <th>Exited</th>\n",
              "      <td>10000.000</td>\n",
              "      <td>0.204</td>\n",
              "      <td>0.403</td>\n",
              "      <td>0.000</td>\n",
              "      <td>0.000</td>\n",
              "      <td>0.000</td>\n",
              "      <td>0.000</td>\n",
              "      <td>1.000</td>\n",
              "    </tr>\n",
              "  </tbody>\n",
              "</table>\n",
              "</div>"
            ],
            "text/plain": [
              "                    count         mean       std          min          25%          50%          75%          max\n",
              "RowNumber       10000.000     5000.500  2886.896        1.000     2500.750     5000.500     7500.250    10000.000\n",
              "CustomerId      10000.000 15690940.569 71936.186 15565701.000 15628528.250 15690738.000 15753233.750 15815690.000\n",
              "CreditScore     10000.000      650.529    96.653      350.000      584.000      652.000      718.000      850.000\n",
              "Age             10000.000       38.922    10.488       18.000       32.000       37.000       44.000       92.000\n",
              "Tenure          10000.000        5.013     2.892        0.000        3.000        5.000        7.000       10.000\n",
              "Balance         10000.000    76485.889 62397.405        0.000        0.000    97198.540   127644.240   250898.090\n",
              "NumOfProducts   10000.000        1.530     0.582        1.000        1.000        1.000        2.000        4.000\n",
              "HasCrCard       10000.000        0.706     0.456        0.000        0.000        1.000        1.000        1.000\n",
              "IsActiveMember  10000.000        0.515     0.500        0.000        0.000        1.000        1.000        1.000\n",
              "EstimatedSalary 10000.000   100090.240 57510.493       11.580    51002.110   100193.915   149388.247   199992.480\n",
              "Exited          10000.000        0.204     0.403        0.000        0.000        0.000        0.000        1.000"
            ]
          },
          "execution_count": 7,
          "metadata": {},
          "output_type": "execute_result"
        }
      ],
      "source": [
        "df.describe().T"
      ]
    },
    {
      "cell_type": "markdown",
      "id": "9d62fa0b",
      "metadata": {
        "id": "9d62fa0b"
      },
      "source": [
        "## Part Two: Data Manipulation\n",
        "\n",
        "Secondly let's mold the data into something more suitable for our Machine&Deep Learning algorytms."
      ]
    },
    {
      "cell_type": "markdown",
      "id": "4d4f96a2",
      "metadata": {
        "id": "4d4f96a2"
      },
      "source": [
        "----\n",
        "**Drop the 'RowNumber', 'CustomerId' and 'Surname' variables**"
      ]
    },
    {
      "cell_type": "code",
      "execution_count": null,
      "id": "b2d56254",
      "metadata": {
        "id": "b2d56254"
      },
      "outputs": [],
      "source": [
        "df.drop(['RowNumber', 'CustomerId','Surname'], axis=1, inplace=True)"
      ]
    },
    {
      "cell_type": "code",
      "execution_count": null,
      "id": "39388c37",
      "metadata": {
        "id": "39388c37",
        "outputId": "48ff60b3-1224-4aa3-e587-51307b6fa2a3"
      },
      "outputs": [
        {
          "data": {
            "text/html": [
              "<div>\n",
              "<style scoped>\n",
              "    .dataframe tbody tr th:only-of-type {\n",
              "        vertical-align: middle;\n",
              "    }\n",
              "\n",
              "    .dataframe tbody tr th {\n",
              "        vertical-align: top;\n",
              "    }\n",
              "\n",
              "    .dataframe thead th {\n",
              "        text-align: right;\n",
              "    }\n",
              "</style>\n",
              "<table border=\"1\" class=\"dataframe\">\n",
              "  <thead>\n",
              "    <tr style=\"text-align: right;\">\n",
              "      <th></th>\n",
              "      <th>CreditScore</th>\n",
              "      <th>Geography</th>\n",
              "      <th>Gender</th>\n",
              "      <th>Age</th>\n",
              "      <th>Tenure</th>\n",
              "      <th>Balance</th>\n",
              "      <th>NumOfProducts</th>\n",
              "      <th>HasCrCard</th>\n",
              "      <th>IsActiveMember</th>\n",
              "      <th>EstimatedSalary</th>\n",
              "      <th>Exited</th>\n",
              "    </tr>\n",
              "  </thead>\n",
              "  <tbody>\n",
              "    <tr>\n",
              "      <th>0</th>\n",
              "      <td>619</td>\n",
              "      <td>France</td>\n",
              "      <td>Female</td>\n",
              "      <td>42</td>\n",
              "      <td>2</td>\n",
              "      <td>0.000</td>\n",
              "      <td>1</td>\n",
              "      <td>1</td>\n",
              "      <td>1</td>\n",
              "      <td>101348.880</td>\n",
              "      <td>1</td>\n",
              "    </tr>\n",
              "    <tr>\n",
              "      <th>1</th>\n",
              "      <td>608</td>\n",
              "      <td>Spain</td>\n",
              "      <td>Female</td>\n",
              "      <td>41</td>\n",
              "      <td>1</td>\n",
              "      <td>83807.860</td>\n",
              "      <td>1</td>\n",
              "      <td>0</td>\n",
              "      <td>1</td>\n",
              "      <td>112542.580</td>\n",
              "      <td>0</td>\n",
              "    </tr>\n",
              "    <tr>\n",
              "      <th>2</th>\n",
              "      <td>502</td>\n",
              "      <td>France</td>\n",
              "      <td>Female</td>\n",
              "      <td>42</td>\n",
              "      <td>8</td>\n",
              "      <td>159660.800</td>\n",
              "      <td>3</td>\n",
              "      <td>1</td>\n",
              "      <td>0</td>\n",
              "      <td>113931.570</td>\n",
              "      <td>1</td>\n",
              "    </tr>\n",
              "    <tr>\n",
              "      <th>3</th>\n",
              "      <td>699</td>\n",
              "      <td>France</td>\n",
              "      <td>Female</td>\n",
              "      <td>39</td>\n",
              "      <td>1</td>\n",
              "      <td>0.000</td>\n",
              "      <td>2</td>\n",
              "      <td>0</td>\n",
              "      <td>0</td>\n",
              "      <td>93826.630</td>\n",
              "      <td>0</td>\n",
              "    </tr>\n",
              "    <tr>\n",
              "      <th>4</th>\n",
              "      <td>850</td>\n",
              "      <td>Spain</td>\n",
              "      <td>Female</td>\n",
              "      <td>43</td>\n",
              "      <td>2</td>\n",
              "      <td>125510.820</td>\n",
              "      <td>1</td>\n",
              "      <td>1</td>\n",
              "      <td>1</td>\n",
              "      <td>79084.100</td>\n",
              "      <td>0</td>\n",
              "    </tr>\n",
              "  </tbody>\n",
              "</table>\n",
              "</div>"
            ],
            "text/plain": [
              "   CreditScore Geography  Gender  Age  Tenure    Balance  NumOfProducts  HasCrCard  IsActiveMember  EstimatedSalary  Exited\n",
              "0          619    France  Female   42       2      0.000              1          1               1       101348.880       1\n",
              "1          608     Spain  Female   41       1  83807.860              1          0               1       112542.580       0\n",
              "2          502    France  Female   42       8 159660.800              3          1               0       113931.570       1\n",
              "3          699    France  Female   39       1      0.000              2          0               0        93826.630       0\n",
              "4          850     Spain  Female   43       2 125510.820              1          1               1        79084.100       0"
            ]
          },
          "execution_count": 9,
          "metadata": {},
          "output_type": "execute_result"
        }
      ],
      "source": [
        "df.head()"
      ]
    },
    {
      "cell_type": "code",
      "execution_count": null,
      "id": "7295bae0",
      "metadata": {
        "id": "7295bae0",
        "outputId": "159e4171-d40c-42ae-f6d3-3c03ebe6c78f"
      },
      "outputs": [
        {
          "name": "stdout",
          "output_type": "stream",
          "text": [
            "<class 'pandas.core.frame.DataFrame'>\n",
            "RangeIndex: 10000 entries, 0 to 9999\n",
            "Data columns (total 11 columns):\n",
            " #   Column           Non-Null Count  Dtype  \n",
            "---  ------           --------------  -----  \n",
            " 0   CreditScore      10000 non-null  int64  \n",
            " 1   Geography        10000 non-null  object \n",
            " 2   Gender           10000 non-null  object \n",
            " 3   Age              10000 non-null  int64  \n",
            " 4   Tenure           10000 non-null  int64  \n",
            " 5   Balance          10000 non-null  float64\n",
            " 6   NumOfProducts    10000 non-null  int64  \n",
            " 7   HasCrCard        10000 non-null  int64  \n",
            " 8   IsActiveMember   10000 non-null  int64  \n",
            " 9   EstimatedSalary  10000 non-null  float64\n",
            " 10  Exited           10000 non-null  int64  \n",
            "dtypes: float64(2), int64(7), object(2)\n",
            "memory usage: 859.5+ KB\n"
          ]
        }
      ],
      "source": [
        "df.info()"
      ]
    },
    {
      "cell_type": "markdown",
      "id": "2012c43a",
      "metadata": {
        "id": "2012c43a"
      },
      "source": [
        "----\n",
        "\n",
        "**One Hot Encoder to deal with Nominal/Categorical variables**"
      ]
    },
    {
      "cell_type": "code",
      "execution_count": null,
      "id": "24bd32ae",
      "metadata": {
        "id": "24bd32ae"
      },
      "outputs": [],
      "source": [
        "df = pd.get_dummies(prefix='GeoDum', data=df, columns=['Geography'])\n",
        "df = pd.get_dummies(prefix='GenDum', data=df, columns=['Gender'])"
      ]
    },
    {
      "cell_type": "markdown",
      "id": "f555a97d",
      "metadata": {
        "id": "f555a97d"
      },
      "source": [
        "pd.get_dummies also removes previous variables "
      ]
    },
    {
      "cell_type": "code",
      "execution_count": null,
      "id": "9690146b",
      "metadata": {
        "id": "9690146b",
        "outputId": "1f5ae39b-c479-4d42-c513-8ea9b5907165"
      },
      "outputs": [
        {
          "data": {
            "text/html": [
              "<div>\n",
              "<style scoped>\n",
              "    .dataframe tbody tr th:only-of-type {\n",
              "        vertical-align: middle;\n",
              "    }\n",
              "\n",
              "    .dataframe tbody tr th {\n",
              "        vertical-align: top;\n",
              "    }\n",
              "\n",
              "    .dataframe thead th {\n",
              "        text-align: right;\n",
              "    }\n",
              "</style>\n",
              "<table border=\"1\" class=\"dataframe\">\n",
              "  <thead>\n",
              "    <tr style=\"text-align: right;\">\n",
              "      <th></th>\n",
              "      <th>CreditScore</th>\n",
              "      <th>Age</th>\n",
              "      <th>Tenure</th>\n",
              "      <th>Balance</th>\n",
              "      <th>NumOfProducts</th>\n",
              "      <th>HasCrCard</th>\n",
              "      <th>IsActiveMember</th>\n",
              "      <th>EstimatedSalary</th>\n",
              "      <th>Exited</th>\n",
              "      <th>GeoDum_France</th>\n",
              "      <th>GeoDum_Germany</th>\n",
              "      <th>GeoDum_Spain</th>\n",
              "      <th>GenDum_Female</th>\n",
              "      <th>GenDum_Male</th>\n",
              "    </tr>\n",
              "  </thead>\n",
              "  <tbody>\n",
              "    <tr>\n",
              "      <th>0</th>\n",
              "      <td>619</td>\n",
              "      <td>42</td>\n",
              "      <td>2</td>\n",
              "      <td>0.000</td>\n",
              "      <td>1</td>\n",
              "      <td>1</td>\n",
              "      <td>1</td>\n",
              "      <td>101348.880</td>\n",
              "      <td>1</td>\n",
              "      <td>1</td>\n",
              "      <td>0</td>\n",
              "      <td>0</td>\n",
              "      <td>1</td>\n",
              "      <td>0</td>\n",
              "    </tr>\n",
              "    <tr>\n",
              "      <th>1</th>\n",
              "      <td>608</td>\n",
              "      <td>41</td>\n",
              "      <td>1</td>\n",
              "      <td>83807.860</td>\n",
              "      <td>1</td>\n",
              "      <td>0</td>\n",
              "      <td>1</td>\n",
              "      <td>112542.580</td>\n",
              "      <td>0</td>\n",
              "      <td>0</td>\n",
              "      <td>0</td>\n",
              "      <td>1</td>\n",
              "      <td>1</td>\n",
              "      <td>0</td>\n",
              "    </tr>\n",
              "    <tr>\n",
              "      <th>2</th>\n",
              "      <td>502</td>\n",
              "      <td>42</td>\n",
              "      <td>8</td>\n",
              "      <td>159660.800</td>\n",
              "      <td>3</td>\n",
              "      <td>1</td>\n",
              "      <td>0</td>\n",
              "      <td>113931.570</td>\n",
              "      <td>1</td>\n",
              "      <td>1</td>\n",
              "      <td>0</td>\n",
              "      <td>0</td>\n",
              "      <td>1</td>\n",
              "      <td>0</td>\n",
              "    </tr>\n",
              "    <tr>\n",
              "      <th>3</th>\n",
              "      <td>699</td>\n",
              "      <td>39</td>\n",
              "      <td>1</td>\n",
              "      <td>0.000</td>\n",
              "      <td>2</td>\n",
              "      <td>0</td>\n",
              "      <td>0</td>\n",
              "      <td>93826.630</td>\n",
              "      <td>0</td>\n",
              "      <td>1</td>\n",
              "      <td>0</td>\n",
              "      <td>0</td>\n",
              "      <td>1</td>\n",
              "      <td>0</td>\n",
              "    </tr>\n",
              "    <tr>\n",
              "      <th>4</th>\n",
              "      <td>850</td>\n",
              "      <td>43</td>\n",
              "      <td>2</td>\n",
              "      <td>125510.820</td>\n",
              "      <td>1</td>\n",
              "      <td>1</td>\n",
              "      <td>1</td>\n",
              "      <td>79084.100</td>\n",
              "      <td>0</td>\n",
              "      <td>0</td>\n",
              "      <td>0</td>\n",
              "      <td>1</td>\n",
              "      <td>1</td>\n",
              "      <td>0</td>\n",
              "    </tr>\n",
              "  </tbody>\n",
              "</table>\n",
              "</div>"
            ],
            "text/plain": [
              "   CreditScore  Age  Tenure    Balance  NumOfProducts  HasCrCard  IsActiveMember  EstimatedSalary  Exited  GeoDum_France  GeoDum_Germany  GeoDum_Spain  GenDum_Female  \\\n",
              "0          619   42       2      0.000              1          1               1       101348.880       1              1               0             0              1   \n",
              "1          608   41       1  83807.860              1          0               1       112542.580       0              0               0             1              1   \n",
              "2          502   42       8 159660.800              3          1               0       113931.570       1              1               0             0              1   \n",
              "3          699   39       1      0.000              2          0               0        93826.630       0              1               0             0              1   \n",
              "4          850   43       2 125510.820              1          1               1        79084.100       0              0               0             1              1   \n",
              "\n",
              "   GenDum_Male  \n",
              "0            0  \n",
              "1            0  \n",
              "2            0  \n",
              "3            0  \n",
              "4            0  "
            ]
          },
          "execution_count": 12,
          "metadata": {},
          "output_type": "execute_result"
        }
      ],
      "source": [
        "df.head()"
      ]
    },
    {
      "cell_type": "code",
      "execution_count": null,
      "id": "d12bb3b5",
      "metadata": {
        "id": "d12bb3b5",
        "outputId": "7585f012-7d85-4a29-a8e4-39439c971ed1"
      },
      "outputs": [
        {
          "data": {
            "text/html": [
              "<div>\n",
              "<style scoped>\n",
              "    .dataframe tbody tr th:only-of-type {\n",
              "        vertical-align: middle;\n",
              "    }\n",
              "\n",
              "    .dataframe tbody tr th {\n",
              "        vertical-align: top;\n",
              "    }\n",
              "\n",
              "    .dataframe thead th {\n",
              "        text-align: right;\n",
              "    }\n",
              "</style>\n",
              "<table border=\"1\" class=\"dataframe\">\n",
              "  <thead>\n",
              "    <tr style=\"text-align: right;\">\n",
              "      <th></th>\n",
              "      <th>CreditScore</th>\n",
              "      <th>Age</th>\n",
              "      <th>Tenure</th>\n",
              "      <th>Balance</th>\n",
              "      <th>NumOfProducts</th>\n",
              "      <th>HasCrCard</th>\n",
              "      <th>IsActiveMember</th>\n",
              "      <th>EstimatedSalary</th>\n",
              "      <th>Exited</th>\n",
              "      <th>GeoDum_France</th>\n",
              "      <th>GeoDum_Germany</th>\n",
              "      <th>GeoDum_Spain</th>\n",
              "      <th>GenDum_Female</th>\n",
              "      <th>GenDum_Male</th>\n",
              "    </tr>\n",
              "  </thead>\n",
              "  <tbody>\n",
              "    <tr>\n",
              "      <th>0</th>\n",
              "      <td>False</td>\n",
              "      <td>False</td>\n",
              "      <td>False</td>\n",
              "      <td>False</td>\n",
              "      <td>False</td>\n",
              "      <td>False</td>\n",
              "      <td>False</td>\n",
              "      <td>False</td>\n",
              "      <td>False</td>\n",
              "      <td>False</td>\n",
              "      <td>False</td>\n",
              "      <td>False</td>\n",
              "      <td>False</td>\n",
              "      <td>False</td>\n",
              "    </tr>\n",
              "    <tr>\n",
              "      <th>1</th>\n",
              "      <td>False</td>\n",
              "      <td>False</td>\n",
              "      <td>False</td>\n",
              "      <td>False</td>\n",
              "      <td>False</td>\n",
              "      <td>False</td>\n",
              "      <td>False</td>\n",
              "      <td>False</td>\n",
              "      <td>False</td>\n",
              "      <td>False</td>\n",
              "      <td>False</td>\n",
              "      <td>False</td>\n",
              "      <td>False</td>\n",
              "      <td>False</td>\n",
              "    </tr>\n",
              "    <tr>\n",
              "      <th>2</th>\n",
              "      <td>False</td>\n",
              "      <td>False</td>\n",
              "      <td>False</td>\n",
              "      <td>False</td>\n",
              "      <td>False</td>\n",
              "      <td>False</td>\n",
              "      <td>False</td>\n",
              "      <td>False</td>\n",
              "      <td>False</td>\n",
              "      <td>False</td>\n",
              "      <td>False</td>\n",
              "      <td>False</td>\n",
              "      <td>False</td>\n",
              "      <td>False</td>\n",
              "    </tr>\n",
              "    <tr>\n",
              "      <th>3</th>\n",
              "      <td>False</td>\n",
              "      <td>False</td>\n",
              "      <td>False</td>\n",
              "      <td>False</td>\n",
              "      <td>False</td>\n",
              "      <td>False</td>\n",
              "      <td>False</td>\n",
              "      <td>False</td>\n",
              "      <td>False</td>\n",
              "      <td>False</td>\n",
              "      <td>False</td>\n",
              "      <td>False</td>\n",
              "      <td>False</td>\n",
              "      <td>False</td>\n",
              "    </tr>\n",
              "    <tr>\n",
              "      <th>4</th>\n",
              "      <td>False</td>\n",
              "      <td>False</td>\n",
              "      <td>False</td>\n",
              "      <td>False</td>\n",
              "      <td>False</td>\n",
              "      <td>False</td>\n",
              "      <td>False</td>\n",
              "      <td>False</td>\n",
              "      <td>False</td>\n",
              "      <td>False</td>\n",
              "      <td>False</td>\n",
              "      <td>False</td>\n",
              "      <td>False</td>\n",
              "      <td>False</td>\n",
              "    </tr>\n",
              "    <tr>\n",
              "      <th>...</th>\n",
              "      <td>...</td>\n",
              "      <td>...</td>\n",
              "      <td>...</td>\n",
              "      <td>...</td>\n",
              "      <td>...</td>\n",
              "      <td>...</td>\n",
              "      <td>...</td>\n",
              "      <td>...</td>\n",
              "      <td>...</td>\n",
              "      <td>...</td>\n",
              "      <td>...</td>\n",
              "      <td>...</td>\n",
              "      <td>...</td>\n",
              "      <td>...</td>\n",
              "    </tr>\n",
              "    <tr>\n",
              "      <th>9995</th>\n",
              "      <td>False</td>\n",
              "      <td>False</td>\n",
              "      <td>False</td>\n",
              "      <td>False</td>\n",
              "      <td>False</td>\n",
              "      <td>False</td>\n",
              "      <td>False</td>\n",
              "      <td>False</td>\n",
              "      <td>False</td>\n",
              "      <td>False</td>\n",
              "      <td>False</td>\n",
              "      <td>False</td>\n",
              "      <td>False</td>\n",
              "      <td>False</td>\n",
              "    </tr>\n",
              "    <tr>\n",
              "      <th>9996</th>\n",
              "      <td>False</td>\n",
              "      <td>False</td>\n",
              "      <td>False</td>\n",
              "      <td>False</td>\n",
              "      <td>False</td>\n",
              "      <td>False</td>\n",
              "      <td>False</td>\n",
              "      <td>False</td>\n",
              "      <td>False</td>\n",
              "      <td>False</td>\n",
              "      <td>False</td>\n",
              "      <td>False</td>\n",
              "      <td>False</td>\n",
              "      <td>False</td>\n",
              "    </tr>\n",
              "    <tr>\n",
              "      <th>9997</th>\n",
              "      <td>False</td>\n",
              "      <td>False</td>\n",
              "      <td>False</td>\n",
              "      <td>False</td>\n",
              "      <td>False</td>\n",
              "      <td>False</td>\n",
              "      <td>False</td>\n",
              "      <td>False</td>\n",
              "      <td>False</td>\n",
              "      <td>False</td>\n",
              "      <td>False</td>\n",
              "      <td>False</td>\n",
              "      <td>False</td>\n",
              "      <td>False</td>\n",
              "    </tr>\n",
              "    <tr>\n",
              "      <th>9998</th>\n",
              "      <td>False</td>\n",
              "      <td>False</td>\n",
              "      <td>False</td>\n",
              "      <td>False</td>\n",
              "      <td>False</td>\n",
              "      <td>False</td>\n",
              "      <td>False</td>\n",
              "      <td>False</td>\n",
              "      <td>False</td>\n",
              "      <td>False</td>\n",
              "      <td>False</td>\n",
              "      <td>False</td>\n",
              "      <td>False</td>\n",
              "      <td>False</td>\n",
              "    </tr>\n",
              "    <tr>\n",
              "      <th>9999</th>\n",
              "      <td>False</td>\n",
              "      <td>False</td>\n",
              "      <td>False</td>\n",
              "      <td>False</td>\n",
              "      <td>False</td>\n",
              "      <td>False</td>\n",
              "      <td>False</td>\n",
              "      <td>False</td>\n",
              "      <td>False</td>\n",
              "      <td>False</td>\n",
              "      <td>False</td>\n",
              "      <td>False</td>\n",
              "      <td>False</td>\n",
              "      <td>False</td>\n",
              "    </tr>\n",
              "  </tbody>\n",
              "</table>\n",
              "<p>10000 rows × 14 columns</p>\n",
              "</div>"
            ],
            "text/plain": [
              "      CreditScore    Age  Tenure  Balance  NumOfProducts  HasCrCard  IsActiveMember  EstimatedSalary  Exited  GeoDum_France  GeoDum_Germany  GeoDum_Spain  \\\n",
              "0           False  False   False    False          False      False           False            False   False          False           False         False   \n",
              "1           False  False   False    False          False      False           False            False   False          False           False         False   \n",
              "2           False  False   False    False          False      False           False            False   False          False           False         False   \n",
              "3           False  False   False    False          False      False           False            False   False          False           False         False   \n",
              "4           False  False   False    False          False      False           False            False   False          False           False         False   \n",
              "...           ...    ...     ...      ...            ...        ...             ...              ...     ...            ...             ...           ...   \n",
              "9995        False  False   False    False          False      False           False            False   False          False           False         False   \n",
              "9996        False  False   False    False          False      False           False            False   False          False           False         False   \n",
              "9997        False  False   False    False          False      False           False            False   False          False           False         False   \n",
              "9998        False  False   False    False          False      False           False            False   False          False           False         False   \n",
              "9999        False  False   False    False          False      False           False            False   False          False           False         False   \n",
              "\n",
              "      GenDum_Female  GenDum_Male  \n",
              "0             False        False  \n",
              "1             False        False  \n",
              "2             False        False  \n",
              "3             False        False  \n",
              "4             False        False  \n",
              "...             ...          ...  \n",
              "9995          False        False  \n",
              "9996          False        False  \n",
              "9997          False        False  \n",
              "9998          False        False  \n",
              "9999          False        False  \n",
              "\n",
              "[10000 rows x 14 columns]"
            ]
          },
          "execution_count": 20,
          "metadata": {},
          "output_type": "execute_result"
        }
      ],
      "source": [
        "df.isnull()"
      ]
    },
    {
      "cell_type": "markdown",
      "id": "2be6730e",
      "metadata": {
        "id": "2be6730e"
      },
      "source": [
        "## Part Three: Exploring Data Frame\n",
        "\n",
        "Let's first explore our dataframe and ask relevant questions to understand both tables much better"
      ]
    },
    {
      "cell_type": "code",
      "execution_count": null,
      "id": "1464f85b",
      "metadata": {
        "id": "1464f85b"
      },
      "outputs": [],
      "source": [
        "# OUTLIERS\n",
        "def outlier_thresholds(dataframe, col_name):\n",
        "    quartile1 = dataframe[col_name].quantile(0.05)\n",
        "    quartile3 = dataframe[col_name].quantile(0.95)\n",
        "    interquantile_range = quartile3 - quartile1\n",
        "    up_limit = quartile3 + 1.5 * interquantile_range\n",
        "    low_limit = quartile1 - 1.5 * interquantile_range\n",
        "    return low_limit, up_limit\n"
      ]
    },
    {
      "cell_type": "markdown",
      "id": "298b7bbd",
      "metadata": {
        "id": "298b7bbd"
      },
      "source": [
        "**How many unique customers are in the dataset?**"
      ]
    },
    {
      "cell_type": "code",
      "execution_count": null,
      "id": "da3a82fe",
      "metadata": {
        "id": "da3a82fe",
        "outputId": "4edf6c13-c14c-498c-980e-3a9cafefbfbb"
      },
      "outputs": [
        {
          "data": {
            "text/plain": [
              "10000"
            ]
          },
          "execution_count": 15,
          "metadata": {},
          "output_type": "execute_result"
        }
      ],
      "source": [
        "len(df)"
      ]
    },
    {
      "cell_type": "markdown",
      "id": "47eae18f",
      "metadata": {
        "id": "47eae18f"
      },
      "source": []
    },
    {
      "cell_type": "code",
      "execution_count": null,
      "id": "69b22eb9",
      "metadata": {
        "id": "69b22eb9",
        "outputId": "47222a03-e759-4cf3-a77c-9b8939d27759"
      },
      "outputs": [
        {
          "data": {
            "text/plain": [
              "array([[<AxesSubplot:title={'center':'CreditScore'}>,\n",
              "        <AxesSubplot:title={'center':'Age'}>,\n",
              "        <AxesSubplot:title={'center':'Tenure'}>,\n",
              "        <AxesSubplot:title={'center':'Balance'}>],\n",
              "       [<AxesSubplot:title={'center':'NumOfProducts'}>,\n",
              "        <AxesSubplot:title={'center':'HasCrCard'}>,\n",
              "        <AxesSubplot:title={'center':'IsActiveMember'}>,\n",
              "        <AxesSubplot:title={'center':'EstimatedSalary'}>],\n",
              "       [<AxesSubplot:title={'center':'Exited'}>,\n",
              "        <AxesSubplot:title={'center':'GeoDum_France'}>,\n",
              "        <AxesSubplot:title={'center':'GeoDum_Germany'}>,\n",
              "        <AxesSubplot:title={'center':'GeoDum_Spain'}>],\n",
              "       [<AxesSubplot:title={'center':'GenDum_Female'}>,\n",
              "        <AxesSubplot:title={'center':'GenDum_Male'}>, <AxesSubplot:>,\n",
              "        <AxesSubplot:>]], dtype=object)"
            ]
          },
          "execution_count": 16,
          "metadata": {},
          "output_type": "execute_result"
        },
        {
          "data": {
            "text/plain": [
              "<Figure size 900x600 with 0 Axes>"
            ]
          },
          "metadata": {},
          "output_type": "display_data"
        },
        {
          "data": {
            "image/png": "[encoded data removed]",
            "text/plain": [
              "<Figure size 1080x864 with 16 Axes>"
            ]
          },
          "metadata": {
            "needs_background": "light"
          },
          "output_type": "display_data"
        }
      ],
      "source": [
        "plt.figure(dpi=150)\n",
        "df.hist(figsize=(15,12),bins = 15)"
      ]
    },
    {
      "cell_type": "code",
      "execution_count": null,
      "id": "878eed79",
      "metadata": {
        "id": "878eed79",
        "outputId": "7e4ef728-7ee5-4ff2-cc32-92e91e98a7a2"
      },
      "outputs": [
        {
          "data": {
            "text/plain": [
              "<AxesSubplot:>"
            ]
          },
          "execution_count": 17,
          "metadata": {},
          "output_type": "execute_result"
        },
        {
          "data": {
            "image/png": "[encoded data removed]",
            "text/plain": [
              "<Figure size 1080x864 with 2 Axes>"
            ]
          },
          "metadata": {
            "needs_background": "light"
          },
          "output_type": "display_data"
        }
      ],
      "source": [
        "plt.figure(figsize=(15,12))\n",
        "sns.heatmap(df.corr(), annot=True,cmap='RdYlGn') "
      ]
    },
    {
      "cell_type": "code",
      "execution_count": null,
      "id": "dd625767",
      "metadata": {
        "id": "dd625767",
        "outputId": "1220db7a-2f3f-459c-d411-7aef5c8ab606"
      },
      "outputs": [
        {
          "data": {
            "text/plain": [
              "<AxesSubplot:>"
            ]
          },
          "execution_count": 21,
          "metadata": {},
          "output_type": "execute_result"
        },
        {
          "data": {
            "image/png": "[encoded data removed]",
            "text/plain": [
              "<Figure size 1080x576 with 1 Axes>"
            ]
          },
          "metadata": {
            "needs_background": "light"
          },
          "output_type": "display_data"
        }
      ],
      "source": [
        "#Get Correlation of \"Churn\" with other variables:\n",
        "plt.figure(figsize=(15,8))\n",
        "df.corr()['Exited'].sort_values(ascending = False).plot(kind='bar')"
      ]
    },
    {
      "cell_type": "code",
      "execution_count": null,
      "id": "84bdd9df",
      "metadata": {
        "id": "84bdd9df"
      },
      "outputs": [],
      "source": []
    }
  ],
  "metadata": {
    "kernelspec": {
      "display_name": "Python 3 (ipykernel)",
      "language": "python",
      "name": "python3"
    },
    "language_info": {
      "codemirror_mode": {
        "name": "ipython",
        "version": 3
      },
      "file_extension": ".py",
      "mimetype": "text/x-python",
      "name": "python",
      "nbconvert_exporter": "python",
      "pygments_lexer": "ipython3",
      "version": "3.9.7"
    },
    "colab": {
      "provenance": []
    }
  },
  "nbformat": 4,
  "nbformat_minor": 5
}